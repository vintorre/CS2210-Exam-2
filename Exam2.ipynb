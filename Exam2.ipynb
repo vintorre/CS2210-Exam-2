{
  "nbformat": 4,
  "nbformat_minor": 0,
  "metadata": {
    "colab": {
      "name": "Exam2",
      "provenance": [],
      "authorship_tag": "ABX9TyPm4Vd56XE3oFJUfWDX1KCc",
      "include_colab_link": true
    },
    "kernelspec": {
      "name": "python3",
      "display_name": "Python 3"
    }
  },
  "cells": [
    {
      "cell_type": "markdown",
      "metadata": {
        "id": "view-in-github",
        "colab_type": "text"
      },
      "source": [
        "<a href=\"https://colab.research.google.com/github/vintorre/CS2210-Exam-2/blob/main/Exam2.ipynb\" target=\"_parent\"><img src=\"https://colab.research.google.com/assets/colab-badge.svg\" alt=\"Open In Colab\"/></a>"
      ]
    },
    {
      "cell_type": "code",
      "metadata": {
        "id": "NJwBiD8aiTUg"
      },
      "source": [
        "def problem1_MFPS(nums):\n",
        "  #i only need to go up until there is 2 rows, because i can calculate from just the two rows\n",
        "  while len(nums) >= 2:\n",
        "    row = nums.pop()\n",
        "\n",
        "    #this for loop poulates my lists\n",
        "    for i in range(len(row)):\n",
        "        #adds the minimum of the possible paths\n",
        "        nums[-1][i] += min(row[max(0, i-1): min(len(row), i+2)])\n",
        "\n",
        "  #returns the smallest path from the answers in the first row\n",
        "  return min(nums[0])"
      ],
      "execution_count": 25,
      "outputs": []
    },
    {
      "cell_type": "code",
      "metadata": {
        "id": "wos1h18kmLc1"
      },
      "source": [
        "def problem2_PS(string):\n",
        "  if len(string) < 0:\n",
        "    return 0\n",
        "\n",
        "  n = len(string)\n",
        "\n",
        "  #made two 2D arrays\n",
        "  substrings = [[0 for i in range(n)]for j in range(n)]\n",
        "  boolean = [[False for i in range(n)]for j in range(n)]\n",
        "\n",
        "  #this for loop populates for strings below 2 in length \n",
        "  for i in range(n-1):\n",
        "    if string[i] == string[i+1]:\n",
        "      boolean[i][i+1] = True\n",
        "      substrings[i][i+1] = 1\n",
        "\n",
        "  #this for loop populates for the rest of the strings\n",
        "  for i in range(2, n):\n",
        "    for j in range(n - i):\n",
        "      v = i + j\n",
        "\n",
        "      if string[i] == string[v] and boolean[i + 1][v - 1]:\n",
        "                boolean[i][v] = True\n",
        "\n",
        "      if (boolean[i][v] == True):\n",
        "                substrings[i][v] = (substrings[i][v - 1] +\n",
        "                            substrings[i + 1][v] + 1 - substrings[i + 1][v - 1])\n",
        "      else:\n",
        "                substrings[i][v] = (substrings[i][v - 1] +\n",
        "                            substrings[i + 1][v] - substrings[i + 1][v - 1])\n",
        " \n",
        "    # return total palindromic substrings, answer is stored in first row \n",
        "    return substrings[0][n - 1]"
      ],
      "execution_count": 31,
      "outputs": []
    },
    {
      "cell_type": "code",
      "metadata": {
        "id": "dIKdqN0RsMDs"
      },
      "source": [
        "def problem3_AS(nums):\n",
        "\n",
        "  #made a temp array and a count(my answer)\n",
        "  temp = [0] * len(nums)\n",
        "  count = 0\n",
        "\n",
        "  #this for loop checks to see if we are dealing with an arithmetic sequence, if we are then I populate temp with another count, add temp[i] to count\n",
        "  for i in range(2, len(nums)):\n",
        "    if nums[i] - nums[i - 1] == nums[i - 1] - nums[i - 2]:\n",
        "                temp[i] = 1 + temp[i - 1]\n",
        "                count += temp[i]\n",
        "\n",
        "  #return count at the end\n",
        "  return count\n",
        "\n"
      ],
      "execution_count": 35,
      "outputs": []
    },
    {
      "cell_type": "code",
      "metadata": {
        "id": "u_UR9VbLzRYM"
      },
      "source": [
        "def problem5_MLPC(nums):\n",
        "\n",
        "  #creating a temp to store my max length chains\n",
        "  temp = [1] * len(nums)\n",
        "\n",
        "  #this nested for loop goes through and checks if the chain is possible if it is then we can either add it to the previous chain (if any) or start a new chain\n",
        "  for i in range(len(nums)):\n",
        "    for j in range(i):\n",
        "      if nums[i][1] < nums[i+1][0]:\n",
        "        temp[i] = max(temp[i], temp[i] +1):\n",
        "\n",
        "  #since i hold the chain lengths in here i could just return the greatest one\n",
        "  return max(temp)"
      ],
      "execution_count": null,
      "outputs": []
    },
    {
      "cell_type": "code",
      "metadata": {
        "id": "Jy0JrPFb4SCJ"
      },
      "source": [
        "def problem6_IB(num):\n",
        "  #creating a list the same size as my given integer\n",
        "  temp = [0] * (num+1)\n",
        "\n",
        "  #this nested loop goes through and checks to see if its better to add the value or multiply the value and sets that equal to the current index\n",
        "  for i in range(1,num):\n",
        "    for j in range(1,i+1):\n",
        "\n",
        "      if (i + j) <= num:\n",
        "        temp[i+j] = max(max(temp[i],i)* max(temp[j],j), temp[i+j])\n",
        "\n",
        "  #return temp at my value because this is where the max value is store\n",
        "  return temp[num] "
      ],
      "execution_count": 53,
      "outputs": []
    }
  ]
}